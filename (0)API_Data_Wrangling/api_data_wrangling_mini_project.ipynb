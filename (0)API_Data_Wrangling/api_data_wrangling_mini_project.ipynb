{
 "cells": [
  {
   "cell_type": "markdown",
   "metadata": {},
   "source": [
    "This exercise will require you to pull some data from https://data.nasdaq.com/ (formerly Quandl API)."
   ]
  },
  {
   "cell_type": "markdown",
   "metadata": {},
   "source": [
    "As a first step, you will need to register a free account on the https://data.nasdaq.com/ website."
   ]
  },
  {
   "cell_type": "markdown",
   "metadata": {},
   "source": [
    "After you register, you will be provided with a unique API key, that you should store:\n",
    "\n",
    "*Note*: Use a `.env` file and put your key in there and `python-dotenv` to access it in this notebook. \n",
    "\n",
    "The code below uses a key that was used when generating this project but has since been deleted. Never submit your keys to source control. There is a `.env-example` file in this repository to illusrtate what you need. Copy that to a file called `.env` and use your own api key in that `.env` file. Make sure you also have a `.gitignore` file with a line for `.env` added to it. \n",
    "\n",
    "The standard Python gitignore is [here](https://github.com/github/gitignore/blob/master/Python.gitignore) you can just copy that. "
   ]
  },
  {
   "cell_type": "code",
   "execution_count": 49,
   "metadata": {},
   "outputs": [],
   "source": [
    "# get api key from your .env file\n",
    "import os\n",
    "from dotenv import load_dotenv\n",
    "\n",
    "load_dotenv()\n",
    "API_KEY = os.getenv('NASDAQ_API_KEY')\n",
    "\n",
    "#print(API_KEY)"
   ]
  },
  {
   "cell_type": "markdown",
   "metadata": {},
   "source": [
    "Nasdaq Data has a large number of data sources, but, unfortunately, most of them require a Premium subscription. Still, there are also a good number of free datasets."
   ]
  },
  {
   "cell_type": "markdown",
   "metadata": {},
   "source": [
    "For this mini project, we will focus on equities data from the Frankfurt Stock Exhange (FSE), which is available for free. We'll try and analyze the stock prices of a company called Carl Zeiss Meditec, which manufactures tools for eye examinations, as well as medical lasers for laser eye surgery: https://www.zeiss.com/meditec/int/home.html. The company is listed under the stock ticker AFX_X."
   ]
  },
  {
   "cell_type": "markdown",
   "metadata": {},
   "source": [
    "You can find the detailed Nasdaq Data API instructions here: https://docs.data.nasdaq.com/docs/in-depth-usage"
   ]
  },
  {
   "cell_type": "markdown",
   "metadata": {},
   "source": [
    "While there is a dedicated Python package for connecting to the Nasdaq API, we would prefer that you use the *requests* package, which can be easily downloaded using *pip* or *conda*. You can find the documentation for the package here: http://docs.python-requests.org/en/master/ "
   ]
  },
  {
   "cell_type": "markdown",
   "metadata": {},
   "source": [
    "Finally, apart from the *requests* package, you are encouraged to not use any third party Python packages, such as *pandas*, and instead focus on what's available in the Python Standard Library (the *collections* module might come in handy: https://pymotw.com/3/collections/).\n",
    "Also, since you won't have access to DataFrames, you are encouraged to us Python's native data structures - preferably dictionaries, though some questions can also be answered using lists.\n",
    "You can read more on these data structures here: https://docs.python.org/3/tutorial/datastructures.html"
   ]
  },
  {
   "cell_type": "markdown",
   "metadata": {},
   "source": [
    "Keep in mind that the JSON responses you will be getting from the API map almost one-to-one to Python's dictionaries. Unfortunately, they can be very nested, so make sure you read up on indexing dictionaries in the documentation provided above."
   ]
  },
  {
   "cell_type": "code",
   "execution_count": 50,
   "metadata": {},
   "outputs": [],
   "source": [
    "# First, import the relevant modules\n",
    "import requests\n",
    "import json"
   ]
  },
  {
   "cell_type": "markdown",
   "metadata": {},
   "source": [
    "Note: API's can change a bit with each version, for this exercise it is reccomended to use the nasdaq api at `https://data.nasdaq.com/api/v3/`. This is the same api as what used to be quandl so `https://www.quandl.com/api/v3/` should work too.\n",
    "\n",
    "Hint: We are looking for the `AFX_X` data on the `datasets/FSE/` dataset."
   ]
  },
  {
   "cell_type": "code",
   "execution_count": 51,
   "metadata": {},
   "outputs": [],
   "source": [
    "# Now, call the Nasdaq API and pull out a small sample of the data (only one day) to get a glimpse\n",
    "# into the JSON structure that will be returned\n",
    "url = \"https://data.nasdaq.com/api/v3/datasets/FSE/AFX_X/data.json\"\n",
    "params = {\n",
    "    \"api_key\": API_KEY,\n",
    "    \"start_date\": \"2023-11-01\",\n",
    "    \"end_date\": \"2023-11-01\"\n",
    "}\n",
    "\n",
    "response=requests.get(url, params=params)\n"
   ]
  },
  {
   "cell_type": "code",
   "execution_count": 52,
   "metadata": {},
   "outputs": [
    {
     "data": {
      "text/plain": [
       "200"
      ]
     },
     "execution_count": 52,
     "metadata": {},
     "output_type": "execute_result"
    }
   ],
   "source": [
    "#response.status_code"
   ]
  },
  {
   "cell_type": "code",
   "execution_count": 53,
   "metadata": {},
   "outputs": [
    {
     "name": "stdout",
     "output_type": "stream",
     "text": [
      "Key: dataset_data\n"
     ]
    }
   ],
   "source": [
    "# Inspect the JSON structure of the object you created, and take note of how nested it is,\n",
    "# as well as the overall structure\n",
    "\n",
    "if response.status_code == 200:\n",
    "   \n",
    "    data = response.json()\n",
    "    for key in data.keys():\n",
    "        print(f\"Key: {key}\")\n",
    "    \n",
    "else:\n",
    "    \n",
    "    print(f\"Request error - Status Code: {response.status_code}\")\n",
    "    "
   ]
  },
  {
   "cell_type": "code",
   "execution_count": 54,
   "metadata": {},
   "outputs": [
    {
     "name": "stdout",
     "output_type": "stream",
     "text": [
      "['Date', 'Open', 'High', 'Low', 'Close', 'Change', 'Traded Volume', 'Turnover', 'Last Price of the Day', 'Daily Traded Units', 'Daily Turnover']\n"
     ]
    }
   ],
   "source": [
    "print(data[\"dataset_data\"][\"column_names\"])"
   ]
  },
  {
   "cell_type": "code",
   "execution_count": 55,
   "metadata": {},
   "outputs": [
    {
     "name": "stdout",
     "output_type": "stream",
     "text": [
      "Key within data_dict: limit\n",
      "Key within data_dict: transform\n",
      "Key within data_dict: column_index\n",
      "Key within data_dict: column_names\n",
      "Key within data_dict: start_date\n",
      "Key within data_dict: end_date\n",
      "Key within data_dict: frequency\n",
      "Key within data_dict: data\n",
      "Key within data_dict: collapse\n",
      "Key within data_dict: order\n"
     ]
    }
   ],
   "source": [
    "if \"dataset_data\" in data:\n",
    "    data_dict = data[\"dataset_data\"]\n",
    "   \n",
    "    for key in data_dict.keys():\n",
    "        print(f\"Key within data_dict: {key}\")\n",
    "else:\n",
    "    print(\"The 'dataset_data' key is not found in the JSON response.\")"
   ]
  },
  {
   "cell_type": "code",
   "execution_count": 56,
   "metadata": {},
   "outputs": [
    {
     "name": "stdout",
     "output_type": "stream",
     "text": [
      "['Date', 'Open', 'High', 'Low', 'Close', 'Change', 'Traded Volume', 'Turnover', 'Last Price of the Day', 'Daily Traded Units', 'Daily Turnover']\n"
     ]
    }
   ],
   "source": [
    "print(data['dataset_data']['column_names'])"
   ]
  },
  {
   "cell_type": "markdown",
   "metadata": {},
   "source": [
    "These are your tasks for this mini project:\n",
    "\n",
    "1. Collect data from the Franfurt Stock Exchange, for the ticker AFX_X, for the whole year 2017 (keep in mind that the date format is YYYY-MM-DD).\n",
    "2. Convert the returned JSON object into a Python dictionary.\n",
    "3. Calculate what the highest and lowest opening prices were for the stock in this period.\n",
    "4. What was the largest change in any one day (based on High and Low price)?\n",
    "5. What was the largest change between any two days (based on Closing Price)?\n",
    "6. What was the average daily trading volume during this year?\n",
    "7. (Optional) What was the median trading volume during this year. (Note: you may need to implement your own function for calculating the median.)"
   ]
  },
  {
   "cell_type": "code",
   "execution_count": 57,
   "metadata": {},
   "outputs": [],
   "source": [
    "#Task 1: Collect data for AFX_X for the whole year 2017\n",
    "\n",
    "start_date = \"2017-01-01\"\n",
    "end_date = \"2017-12-31\"\n",
    "\n",
    "response = requests.get(url, params={\"api_key\": API_KEY, \"start_date\": start_date, \"end_date\": end_date})\n",
    "\n",
    "if response.status_code == 200:\n",
    "    data = response.json()\n",
    "else:\n",
    "    print(f\"Request error - Status Code: {response.status_code}\")\n"
   ]
  },
  {
   "cell_type": "code",
   "execution_count": 62,
   "metadata": {},
   "outputs": [],
   "source": [
    "# Task 2: Convert the JSON response to a Python dictionary\n",
    "data_dict = data.get(\"dataset_data\", {})"
   ]
  },
  {
   "cell_type": "code",
   "execution_count": 63,
   "metadata": {},
   "outputs": [
    {
     "data": {
      "text/plain": [
       "dict_keys(['limit', 'transform', 'column_index', 'column_names', 'start_date', 'end_date', 'frequency', 'data', 'collapse', 'order'])"
      ]
     },
     "execution_count": 63,
     "metadata": {},
     "output_type": "execute_result"
    }
   ],
   "source": [
    "data_dict.keys()"
   ]
  },
  {
   "cell_type": "code",
   "execution_count": 64,
   "metadata": {},
   "outputs": [
    {
     "data": {
      "text/plain": [
       "['Date',\n",
       " 'Open',\n",
       " 'High',\n",
       " 'Low',\n",
       " 'Close',\n",
       " 'Change',\n",
       " 'Traded Volume',\n",
       " 'Turnover',\n",
       " 'Last Price of the Day',\n",
       " 'Daily Traded Units',\n",
       " 'Daily Turnover']"
      ]
     },
     "execution_count": 64,
     "metadata": {},
     "output_type": "execute_result"
    }
   ],
   "source": [
    "column_names = data_dict.get(\"column_names\", [])\n",
    "column_names"
   ]
  },
  {
   "cell_type": "code",
   "execution_count": 65,
   "metadata": {},
   "outputs": [
    {
     "name": "stdout",
     "output_type": "stream",
     "text": [
      "Highest opening price in 2017: 53.11\n",
      "Lowest opening price in 2017: 34.0\n"
     ]
    }
   ],
   "source": [
    "# Task 3:Calculate what the highest and lowest opening prices were for the stock in this period.\n",
    "opening_prices = []\n",
    "\n",
    "data_list = data_dict.get(\"data\", [])\n",
    "open_price_index = column_names.index(\"Open\")\n",
    "\n",
    "highest_opening_price = None\n",
    "lowest_opening_price = None\n",
    "\n",
    "for entry in data_list:\n",
    "    opening_price = entry[open_price_index]\n",
    "    if opening_price is not None:\n",
    "        if highest_opening_price is None or opening_price > highest_opening_price:\n",
    "            highest_opening_price = opening_price\n",
    "        if lowest_opening_price is None or opening_price < lowest_opening_price:\n",
    "            lowest_opening_price = opening_price\n",
    "\n",
    "print(f\"Highest opening price in 2017: {highest_opening_price}\")\n",
    "print(f\"Lowest opening price in 2017: {lowest_opening_price}\")"
   ]
  },
  {
   "cell_type": "code",
   "execution_count": 66,
   "metadata": {},
   "outputs": [
    {
     "name": "stdout",
     "output_type": "stream",
     "text": [
      "Largest change in any one day in 2017: 2.8100000000000023\n"
     ]
    }
   ],
   "source": [
    "# Task4: What was the largest change in any one day (based on High and Low price)?\n",
    "\n",
    "max_daily_change = None\n",
    "\n",
    "\n",
    "high_price_index = column_names.index(\"High\")\n",
    "low_price_index = column_names.index(\"Low\")\n",
    "\n",
    "for entry in data_list:\n",
    "    high_price = entry[high_price_index]\n",
    "    low_price = entry[low_price_index]\n",
    "    if high_price is not None and low_price is not None:\n",
    "        daily_change = high_price - low_price\n",
    "        if max_daily_change is None or daily_change > max_daily_change:\n",
    "            max_daily_change = daily_change\n",
    "\n",
    "print(f\"Largest change in any one day in 2017: {max_daily_change}\")\n",
    "\n"
   ]
  },
  {
   "cell_type": "code",
   "execution_count": 67,
   "metadata": {},
   "outputs": [
    {
     "name": "stdout",
     "output_type": "stream",
     "text": [
      "Largest change between any 2  days in 2017 is: 2.559999999999995\n"
     ]
    }
   ],
   "source": [
    "# task 5: What was the largest change between any two days (based on Closing Price)?\n",
    "\n",
    "max_2day_change = None\n",
    "\n",
    "\n",
    "close_price_index = column_names.index(\"Close\")\n",
    "\n",
    "previous_day_close = None\n",
    "\n",
    "for entry in data_list:\n",
    "    close_price = entry[close_price_index]\n",
    "    if close_price is not None:\n",
    "        if previous_day_close is not None:\n",
    "            two_day_change = abs(close_price - previous_day_close)\n",
    "            if max_2day_change is None or two_day_change > max_2day_change:\n",
    "                max_2day_change = two_day_change\n",
    "        previous_day_close = close_price\n",
    "\n",
    "print(f\"Largest change between any 2  days in 2017 is: {max_2day_change}\")\n"
   ]
  },
  {
   "cell_type": "code",
   "execution_count": 68,
   "metadata": {},
   "outputs": [
    {
     "name": "stdout",
     "output_type": "stream",
     "text": [
      "Average daily trading volume in 2017 is: 89124.33725490196\n"
     ]
    }
   ],
   "source": [
    "#Task 6 What was the average daily trading volume during this year?\n",
    "\n",
    "total_volume = 0\n",
    "total_days = 0\n",
    "\n",
    "traded_volume_index = column_names.index(\"Traded Volume\")\n",
    "\n",
    "for entry in data_list:\n",
    "    traded_volume = entry[traded_volume_index]\n",
    "    if traded_volume is not None:\n",
    "        total_volume += traded_volume\n",
    "        total_days += 1\n",
    "\n",
    "average_volume = total_volume / total_days\n",
    "\n",
    "print(f\"Average daily trading volume in 2017 is: {average_volume}\")\n"
   ]
  },
  {
   "cell_type": "code",
   "execution_count": 69,
   "metadata": {},
   "outputs": [
    {
     "name": "stdout",
     "output_type": "stream",
     "text": [
      "Median trading volume in 2017 is : 76286.0\n"
     ]
    }
   ],
   "source": [
    "#Task 7: What was the median trading volume during this year.\n",
    "\n",
    "def cal_median(data):\n",
    "    sorted_data = sorted(data)\n",
    "    n = len(sorted_data)\n",
    "    if n % 2 == 0:\n",
    "        median = (sorted_data[n // 2 - 1] + sorted_data[n // 2]) / 2\n",
    "    else:\n",
    "        median = sorted_data[n // 2]\n",
    "    return median\n",
    "\n",
    "traded_volume_index = column_names.index(\"Traded Volume\")\n",
    "\n",
    "trading_volumes = []  # Corrected variable name\n",
    "\n",
    "for entry in data_list:\n",
    "    traded_volume = entry[traded_volume_index]\n",
    "    if traded_volume is not None:\n",
    "        trading_volumes.append(traded_volume)\n",
    "\n",
    "median_volume = cal_median(trading_volumes)\n",
    "\n",
    "print(f\"Median trading volume in 2017 is : {median_volume}\")\n"
   ]
  },
  {
   "cell_type": "code",
   "execution_count": null,
   "metadata": {},
   "outputs": [],
   "source": []
  }
 ],
 "metadata": {
  "interpreter": {
   "hash": "7635eb1b9d0fe97add78a7368b6b431c09bb8ad5c42e437d64abdd99821c31ae"
  },
  "kernelspec": {
   "display_name": "Python 3 (ipykernel)",
   "language": "python",
   "name": "python3"
  },
  "language_info": {
   "codemirror_mode": {
    "name": "ipython",
    "version": 3
   },
   "file_extension": ".py",
   "mimetype": "text/x-python",
   "name": "python",
   "nbconvert_exporter": "python",
   "pygments_lexer": "ipython3",
   "version": "3.9.13"
  }
 },
 "nbformat": 4,
 "nbformat_minor": 4
}
